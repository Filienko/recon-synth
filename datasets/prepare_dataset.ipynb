{
 "cells": [
  {
   "cell_type": "code",
   "execution_count": null,
   "metadata": {},
   "outputs": [],
   "source": [
    "import pandas as pd\n",
    "import json\n",
    "\n",
    "def make_categorical(df):\n",
    "    new_df = df.copy()\n",
    "\n",
    "    # convert all columns to categorical integers\n",
    "    for col in new_df.columns:\n",
    "        new_df[col] = new_df[col].astype('category')\n",
    "    cat_columns = new_df.select_dtypes(['category']).columns\n",
    "    new_df[cat_columns] = new_df[cat_columns].apply(lambda x: x.cat.codes)\n",
    "\n",
    "    # create domain for RAP\n",
    "    domain = {}\n",
    "    for col in new_df.columns:\n",
    "        domain[col] = len(new_df[col].unique())\n",
    "\n",
    "    return new_df, domain"
   ]
  },
  {
   "cell_type": "code",
   "execution_count": null,
   "metadata": {},
   "outputs": [],
   "source": [
    "# download ACS dataset\n",
    "from folktables import ACSDataSource, ACSEmployment\n",
    "\n",
    "data_source = ACSDataSource(survey_year='2018', horizon='1-Year', survey='person')\n",
    "acs_data = data_source.get_data(states=[\"CA\"], download=True)\n",
    "acs, _, _ = ACSEmployment.df_to_pandas(acs_data)\n",
    "\n",
    "acs"
   ]
  },
  {
   "cell_type": "code",
   "execution_count": null,
   "metadata": {},
   "outputs": [],
   "source": [
    "import json\n",
    "\n",
    "# pre-process ACS dataset\n",
    "# reduce dimensionality of AGEP attribute\n",
    "acs['AGEP'] = acs['AGEP'].apply(lambda x: int(x) // 10)\n",
    "\n",
    "# convert all columns to integers\n",
    "acs, acs_domain = make_categorical(acs)\n",
    "\n",
    "# save pre-processed dataset and domain\n",
    "acs.to_csv('acs.csv', index=False)\n",
    "with open('domain/acs-domain.json', 'w') as f:\n",
    "    json.dump(acs_domain, f)\n",
    "\n",
    "acs"
   ]
  },
  {
   "cell_type": "code",
   "execution_count": null,
   "metadata": {},
   "outputs": [],
   "source": [
    "# download FIRE dataset from https://data.sfgov.org/Public-Safety/Fire-Department-Calls-for-Service/nuek-vuh3\n",
    "fire = pd.read_csv('fire_raw.csv')\n",
    "fire"
   ]
  },
  {
   "cell_type": "code",
   "execution_count": null,
   "metadata": {},
   "outputs": [],
   "source": [
    "# keep only categorical columns\n",
    "cat_cols = ['Call Type', 'Call Final Disposition', 'City', 'Zipcode of Incident', 'Battalion', 'Station Area', 'Priority', 'ALS Unit', 'Call Type Group', 'Number of Alarms']\n",
    "fire, fire_domain = make_categorical(fire[cat_cols])\n",
    "\n",
    "# save pre-processed dataset and domain\n",
    "fire.to_csv('fire.csv', index=False)\n",
    "with open('domain/fire-domain.json', 'w') as f:\n",
    "    json.dump(fire_domain, f)\n",
    "\n",
    "fire"
   ]
  }
 ],
 "metadata": {
  "kernelspec": {
   "display_name": "recon",
   "language": "python",
   "name": "python3"
  },
  "language_info": {
   "codemirror_mode": {
    "name": "ipython",
    "version": 3
   },
   "file_extension": ".py",
   "mimetype": "text/x-python",
   "name": "python",
   "nbconvert_exporter": "python",
   "pygments_lexer": "ipython3",
   "version": "3.9.17"
  },
  "orig_nbformat": 4
 },
 "nbformat": 4,
 "nbformat_minor": 2
}
